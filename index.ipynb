{
 "cells": [
  {
   "cell_type": "markdown",
   "metadata": {},
   "source": [
    "# Lambda Functions - Lab\n",
    "\n",
    "## Introduction\n",
    "\n",
    "In this lab, you'll get some hands-on practice creating and using lambda functions.\n",
    "\n",
    "## Objectives\n",
    "\n",
    "In this lab you will:\n",
    "\n",
    "* Create lambda functions to use as arguments of other functions   \n",
    "* Use the `.map()` or `.apply()` method to apply a function to a pandas series or DataFrame"
   ]
  },
  {
   "cell_type": "markdown",
   "metadata": {},
   "source": [
    "## Lambda Functions"
   ]
  },
  {
   "cell_type": "code",
   "execution_count": 1,
   "metadata": {},
   "outputs": [
    {
     "data": {
      "text/html": [
       "<div>\n",
       "<style scoped>\n",
       "    .dataframe tbody tr th:only-of-type {\n",
       "        vertical-align: middle;\n",
       "    }\n",
       "\n",
       "    .dataframe tbody tr th {\n",
       "        vertical-align: top;\n",
       "    }\n",
       "\n",
       "    .dataframe thead th {\n",
       "        text-align: right;\n",
       "    }\n",
       "</style>\n",
       "<table border=\"1\" class=\"dataframe\">\n",
       "  <thead>\n",
       "    <tr style=\"text-align: right;\">\n",
       "      <th></th>\n",
       "      <th>business_id</th>\n",
       "      <th>cool</th>\n",
       "      <th>date</th>\n",
       "      <th>funny</th>\n",
       "      <th>review_id</th>\n",
       "      <th>stars</th>\n",
       "      <th>text</th>\n",
       "      <th>useful</th>\n",
       "      <th>user_id</th>\n",
       "    </tr>\n",
       "  </thead>\n",
       "  <tbody>\n",
       "    <tr>\n",
       "      <th>1</th>\n",
       "      <td>pomGBqfbxcqPv14c3XH-ZQ</td>\n",
       "      <td>0</td>\n",
       "      <td>2012-11-13</td>\n",
       "      <td>0</td>\n",
       "      <td>dDl8zu1vWPdKGihJrwQbpw</td>\n",
       "      <td>5</td>\n",
       "      <td>I love this place! My fiance And I go here atl...</td>\n",
       "      <td>0</td>\n",
       "      <td>msQe1u7Z_XuqjGoqhB0J5g</td>\n",
       "    </tr>\n",
       "    <tr>\n",
       "      <th>2</th>\n",
       "      <td>jtQARsP6P-LbkyjbO1qNGg</td>\n",
       "      <td>1</td>\n",
       "      <td>2014-10-23</td>\n",
       "      <td>1</td>\n",
       "      <td>LZp4UX5zK3e-c5ZGSeo3kA</td>\n",
       "      <td>1</td>\n",
       "      <td>Terrible. Dry corn bread. Rib tips were all fa...</td>\n",
       "      <td>3</td>\n",
       "      <td>msQe1u7Z_XuqjGoqhB0J5g</td>\n",
       "    </tr>\n",
       "  </tbody>\n",
       "</table>\n",
       "</div>"
      ],
      "text/plain": [
       "              business_id  cool        date  funny               review_id  \\\n",
       "1  pomGBqfbxcqPv14c3XH-ZQ     0  2012-11-13      0  dDl8zu1vWPdKGihJrwQbpw   \n",
       "2  jtQARsP6P-LbkyjbO1qNGg     1  2014-10-23      1  LZp4UX5zK3e-c5ZGSeo3kA   \n",
       "\n",
       "   stars                                               text  useful  \\\n",
       "1      5  I love this place! My fiance And I go here atl...       0   \n",
       "2      1  Terrible. Dry corn bread. Rib tips were all fa...       3   \n",
       "\n",
       "                  user_id  \n",
       "1  msQe1u7Z_XuqjGoqhB0J5g  \n",
       "2  msQe1u7Z_XuqjGoqhB0J5g  "
      ]
     },
     "execution_count": 1,
     "metadata": {},
     "output_type": "execute_result"
    }
   ],
   "source": [
    "import pandas as pd\n",
    "df = pd.read_csv('Yelp_Reviews.csv', index_col=0)\n",
    "df.head(2)"
   ]
  },
  {
   "cell_type": "markdown",
   "metadata": {},
   "source": [
    "## Simple arithmetic\n",
    "\n",
    "Use a lambda function to create a new column called `'stars_squared'` by squaring the stars column."
   ]
  },
  {
   "cell_type": "code",
   "execution_count": 2,
   "metadata": {},
   "outputs": [
    {
     "name": "stdout",
     "output_type": "stream",
     "text": [
      "              business_id  cool        date  funny               review_id  \\\n",
      "1  pomGBqfbxcqPv14c3XH-ZQ     0  2012-11-13      0  dDl8zu1vWPdKGihJrwQbpw   \n",
      "2  jtQARsP6P-LbkyjbO1qNGg     1  2014-10-23      1  LZp4UX5zK3e-c5ZGSeo3kA   \n",
      "\n",
      "   stars                                               text  useful  \\\n",
      "1      5  I love this place! My fiance And I go here atl...       0   \n",
      "2      1  Terrible. Dry corn bread. Rib tips were all fa...       3   \n",
      "\n",
      "                  user_id  stars_squared  \n",
      "1  msQe1u7Z_XuqjGoqhB0J5g             25  \n",
      "2  msQe1u7Z_XuqjGoqhB0J5g              1  \n"
     ]
    }
   ],
   "source": [
    "# Your code here\n",
    "df = pd.read_csv('Yelp_Reviews.csv', index_col=0)\n",
    "\n",
    "# Define the lambda function to square the values\n",
    "square_function = lambda x: x ** 2\n",
    "\n",
    "# Apply the lambda function to create the new column 'stars_squared'\n",
    "df['stars_squared'] = df['stars'].apply(square_function)\n",
    "\n",
    "# Display the first few rows to verify the result\n",
    "print(df.head(2))\n"
   ]
  },
  {
   "cell_type": "markdown",
   "metadata": {},
   "source": [
    "## Dates\n",
    "Select the month from the date string using a lambda function."
   ]
  },
  {
   "cell_type": "code",
   "execution_count": 4,
   "metadata": {},
   "outputs": [
    {
     "name": "stdout",
     "output_type": "stream",
     "text": [
      "               business_id  cool       date  funny               review_id  \\\n",
      "1   pomGBqfbxcqPv14c3XH-ZQ     0 2012-11-13      0  dDl8zu1vWPdKGihJrwQbpw   \n",
      "2   jtQARsP6P-LbkyjbO1qNGg     1 2014-10-23      1  LZp4UX5zK3e-c5ZGSeo3kA   \n",
      "4   Ums3gaP2qM3W1XcA5r6SsQ     0 2014-09-05      0  jsDu6QEJHbwP2Blom1PLCA   \n",
      "5   vgfcTvK81oD4r50NMjU2Ag     0 2011-02-25      0  pfavA0hr3nyqO61oupj-lA   \n",
      "10  yFumR3CWzpfvTH2FCthvVw     0 2016-06-15      0  STiFMww2z31siPY7BWNC2g   \n",
      "\n",
      "    stars                                               text  useful  \\\n",
      "1       5  I love this place! My fiance And I go here atl...       0   \n",
      "2       1  Terrible. Dry corn bread. Rib tips were all fa...       3   \n",
      "4       5  Delicious healthy food. The steak is amazing. ...       0   \n",
      "5       1  This place sucks. The customer service is horr...       2   \n",
      "10      5  I have been an Emerald Club member for a numbe...       0   \n",
      "\n",
      "                   user_id  month  \n",
      "1   msQe1u7Z_XuqjGoqhB0J5g     11  \n",
      "2   msQe1u7Z_XuqjGoqhB0J5g     10  \n",
      "4   msQe1u7Z_XuqjGoqhB0J5g      9  \n",
      "5   msQe1u7Z_XuqjGoqhB0J5g      2  \n",
      "10  TlvV-xJhmh7LCwJYXkV-cg      6  \n"
     ]
    }
   ],
   "source": [
    "# Your code here\n",
    "import pandas as pd\n",
    "\n",
    "# Assuming 'Yelp_Reviews.csv' contains the DataFrame\n",
    "df = pd.read_csv('Yelp_Reviews.csv', index_col=0)\n",
    "\n",
    "# Convert the 'date' column to datetime format\n",
    "df['date'] = pd.to_datetime(df['date'])\n",
    "\n",
    "# Define a lambda function to extract the month\n",
    "extract_month = lambda x: x.month\n",
    "\n",
    "# Apply the lambda function to create a new column 'month'\n",
    "df['month'] = df['date'].apply(extract_month)\n",
    "\n",
    "# Display the DataFrame with the new 'month' column\n",
    "print(df.head())\n",
    "\n"
   ]
  },
  {
   "cell_type": "markdown",
   "metadata": {},
   "source": [
    "## What is the average number of words for a yelp review?\n",
    "Do this with a single line of code."
   ]
  },
  {
   "cell_type": "code",
   "execution_count": 7,
   "metadata": {},
   "outputs": [
    {
     "name": "stdout",
     "output_type": "stream",
     "text": [
      "Index(['business_id', 'cool', 'date', 'funny', 'review_id', 'stars', 'text',\n",
      "       'useful', 'user_id'],\n",
      "      dtype='object')\n"
     ]
    }
   ],
   "source": [
    "# Your code here\n",
    "import pandas as pd\n",
    "\n",
    "# Assuming 'Yelp_Reviews.csv' contains the DataFrame\n",
    "df = pd.read_csv('Yelp_Reviews.csv', index_col=0)\n",
    "\n",
    "# Display the column names\n",
    "print(df.columns)\n",
    "\n",
    "\n",
    "\n"
   ]
  },
  {
   "cell_type": "markdown",
   "metadata": {},
   "source": [
    "## Create a new column for the number of words in the review"
   ]
  },
  {
   "cell_type": "code",
   "execution_count": 13,
   "metadata": {},
   "outputs": [
    {
     "name": "stdout",
     "output_type": "stream",
     "text": [
      "               business_id  cool        date  funny               review_id  \\\n",
      "1   pomGBqfbxcqPv14c3XH-ZQ     0  2012-11-13      0  dDl8zu1vWPdKGihJrwQbpw   \n",
      "2   jtQARsP6P-LbkyjbO1qNGg     1  2014-10-23      1  LZp4UX5zK3e-c5ZGSeo3kA   \n",
      "4   Ums3gaP2qM3W1XcA5r6SsQ     0  2014-09-05      0  jsDu6QEJHbwP2Blom1PLCA   \n",
      "5   vgfcTvK81oD4r50NMjU2Ag     0  2011-02-25      0  pfavA0hr3nyqO61oupj-lA   \n",
      "10  yFumR3CWzpfvTH2FCthvVw     0  2016-06-15      0  STiFMww2z31siPY7BWNC2g   \n",
      "\n",
      "    stars                                               text  useful  \\\n",
      "1       5  I love this place! My fiance And I go here atl...       0   \n",
      "2       1  Terrible. Dry corn bread. Rib tips were all fa...       3   \n",
      "4       5  Delicious healthy food. The steak is amazing. ...       0   \n",
      "5       1  This place sucks. The customer service is horr...       2   \n",
      "10      5  I have been an Emerald Club member for a numbe...       0   \n",
      "\n",
      "                   user_id  \n",
      "1   msQe1u7Z_XuqjGoqhB0J5g  \n",
      "2   msQe1u7Z_XuqjGoqhB0J5g  \n",
      "4   msQe1u7Z_XuqjGoqhB0J5g  \n",
      "5   msQe1u7Z_XuqjGoqhB0J5g  \n",
      "10  TlvV-xJhmh7LCwJYXkV-cg  \n"
     ]
    }
   ],
   "source": [
    "# Your code here\n",
    "import pandas as pd\n",
    "\n",
    "# Read the DataFrame from the CSV file\n",
    "df = pd.read_csv('Yelp_Reviews.csv', index_col=0)\n",
    "\n",
    "# Define a lambda function to count the number of words in each review\n",
    "count_words = lambda x: len(x.split())\n",
    "\n",
    "# Display the DataFrame with the new 'num_words' column\n",
    "print(df.head())\n",
    "\n",
    "\n"
   ]
  },
  {
   "cell_type": "markdown",
   "metadata": {},
   "source": [
    "## Rewrite the following as a lambda function\n",
    "\n",
    "Create a new column `'Review_Length'` by applying this lambda function to the `'Review_num_words'` column. "
   ]
  },
  {
   "cell_type": "code",
   "execution_count": 17,
   "metadata": {},
   "outputs": [
    {
     "name": "stdout",
     "output_type": "stream",
     "text": [
      "               business_id  cool        date  funny               review_id  \\\n",
      "1   pomGBqfbxcqPv14c3XH-ZQ     0  2012-11-13      0  dDl8zu1vWPdKGihJrwQbpw   \n",
      "2   jtQARsP6P-LbkyjbO1qNGg     1  2014-10-23      1  LZp4UX5zK3e-c5ZGSeo3kA   \n",
      "4   Ums3gaP2qM3W1XcA5r6SsQ     0  2014-09-05      0  jsDu6QEJHbwP2Blom1PLCA   \n",
      "5   vgfcTvK81oD4r50NMjU2Ag     0  2011-02-25      0  pfavA0hr3nyqO61oupj-lA   \n",
      "10  yFumR3CWzpfvTH2FCthvVw     0  2016-06-15      0  STiFMww2z31siPY7BWNC2g   \n",
      "\n",
      "    stars                                               text  useful  \\\n",
      "1       5  I love this place! My fiance And I go here atl...       0   \n",
      "2       1  Terrible. Dry corn bread. Rib tips were all fa...       3   \n",
      "4       5  Delicious healthy food. The steak is amazing. ...       0   \n",
      "5       1  This place sucks. The customer service is horr...       2   \n",
      "10      5  I have been an Emerald Club member for a numbe...       0   \n",
      "\n",
      "                   user_id  \n",
      "1   msQe1u7Z_XuqjGoqhB0J5g  \n",
      "2   msQe1u7Z_XuqjGoqhB0J5g  \n",
      "4   msQe1u7Z_XuqjGoqhB0J5g  \n",
      "5   msQe1u7Z_XuqjGoqhB0J5g  \n",
      "10  TlvV-xJhmh7LCwJYXkV-cg  \n"
     ]
    }
   ],
   "source": [
    "# Rewrite the following function as a lambda function\n",
    "# Define the lambda function\n",
    "review_length_lambda = lambda value: 'Short' if len(value) < 50 else ('Medium' if len(value) < 80 else 'Long')\n",
    "\n",
    "# Display the DataFrame with the new column\n",
    "print(df.head())\n",
    "\n"
   ]
  },
  {
   "cell_type": "markdown",
   "metadata": {},
   "source": [
    "## Level Up: Dates Advanced\n",
    "<img src=\"images/world_map.png\" width=\"600\">  \n",
    "\n",
    "Print the first five rows of the `'date'` column. "
   ]
  },
  {
   "cell_type": "code",
   "execution_count": 19,
   "metadata": {},
   "outputs": [
    {
     "name": "stdout",
     "output_type": "stream",
     "text": [
      "1     2012-11-13\n",
      "2     2014-10-23\n",
      "4     2014-09-05\n",
      "5     2011-02-25\n",
      "10    2016-06-15\n",
      "Name: date, dtype: object\n"
     ]
    }
   ],
   "source": [
    "# Your code here\n",
    "import pandas as pd\n",
    "\n",
    "# Assuming 'df' is your DataFrame\n",
    "\n",
    "# Print the first five rows of the 'date' column\n",
    "print(df['date'].head())\n",
    "\n"
   ]
  },
  {
   "cell_type": "markdown",
   "metadata": {},
   "source": [
    "Overwrite the `'date'` column by reordering the month and day from `YYYY-MM-DD` to `DD-MM-YYYY`. Try to do this using a lambda function."
   ]
  },
  {
   "cell_type": "code",
   "execution_count": 20,
   "metadata": {},
   "outputs": [
    {
     "name": "stdout",
     "output_type": "stream",
     "text": [
      "               business_id  cool        date  funny               review_id  \\\n",
      "1   pomGBqfbxcqPv14c3XH-ZQ     0  13-11-2012      0  dDl8zu1vWPdKGihJrwQbpw   \n",
      "2   jtQARsP6P-LbkyjbO1qNGg     1  23-10-2014      1  LZp4UX5zK3e-c5ZGSeo3kA   \n",
      "4   Ums3gaP2qM3W1XcA5r6SsQ     0  05-09-2014      0  jsDu6QEJHbwP2Blom1PLCA   \n",
      "5   vgfcTvK81oD4r50NMjU2Ag     0  25-02-2011      0  pfavA0hr3nyqO61oupj-lA   \n",
      "10  yFumR3CWzpfvTH2FCthvVw     0  15-06-2016      0  STiFMww2z31siPY7BWNC2g   \n",
      "\n",
      "    stars                                               text  useful  \\\n",
      "1       5  I love this place! My fiance And I go here atl...       0   \n",
      "2       1  Terrible. Dry corn bread. Rib tips were all fa...       3   \n",
      "4       5  Delicious healthy food. The steak is amazing. ...       0   \n",
      "5       1  This place sucks. The customer service is horr...       2   \n",
      "10      5  I have been an Emerald Club member for a numbe...       0   \n",
      "\n",
      "                   user_id  \n",
      "1   msQe1u7Z_XuqjGoqhB0J5g  \n",
      "2   msQe1u7Z_XuqjGoqhB0J5g  \n",
      "4   msQe1u7Z_XuqjGoqhB0J5g  \n",
      "5   msQe1u7Z_XuqjGoqhB0J5g  \n",
      "10  TlvV-xJhmh7LCwJYXkV-cg  \n"
     ]
    }
   ],
   "source": [
    "# Your code here\n",
    "import pandas as pd\n",
    "\n",
    "# Assuming 'df' is your DataFrame\n",
    "\n",
    "# Define a lambda function to reorder the date format\n",
    "reorder_date = lambda date: pd.to_datetime(date).strftime('%d-%m-%Y')\n",
    "\n",
    "# Apply the lambda function to the 'date' column to overwrite it\n",
    "df['date'] = df['date'].apply(reorder_date)\n",
    "\n",
    "# Print the DataFrame to verify the changes\n",
    "print(df.head())\n",
    "\n"
   ]
  },
  {
   "cell_type": "markdown",
   "metadata": {},
   "source": [
    "## Summary\n",
    "\n",
    "Hopefully, you're getting the hang of lambda functions now! It's important not to overuse them - it will often make more sense to define a function so that it's reusable elsewhere. But whenever you need to quickly apply some simple processing to a collection of data you have a new technique that will help you to do just that. It'll also be useful if you're reading someone else's code that happens to use lambdas."
   ]
  }
 ],
 "metadata": {
  "kernelspec": {
   "display_name": "Python (learn-env)",
   "language": "python",
   "name": "learn-env"
  },
  "language_info": {
   "codemirror_mode": {
    "name": "ipython",
    "version": 3
   },
   "file_extension": ".py",
   "mimetype": "text/x-python",
   "name": "python",
   "nbconvert_exporter": "python",
   "pygments_lexer": "ipython3",
   "version": "3.8.16"
  }
 },
 "nbformat": 4,
 "nbformat_minor": 4
}
